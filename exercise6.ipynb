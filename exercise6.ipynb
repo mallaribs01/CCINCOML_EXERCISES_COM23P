{
  "nbformat": 4,
  "nbformat_minor": 0,
  "metadata": {
    "colab": {
      "provenance": [],
      "collapsed_sections": [
        "FKj-F10WsctE"
      ],
      "include_colab_link": true
    },
    "kernelspec": {
      "name": "python3",
      "display_name": "Python 3"
    },
    "language_info": {
      "name": "python"
    }
  },
  "cells": [
    {
      "cell_type": "markdown",
      "metadata": {
        "id": "view-in-github",
        "colab_type": "text"
      },
      "source": [
        "<a href=\"https://colab.research.google.com/github/mallaribs01/CCINCOML_EXERCISES_COM23P/blob/main/exercise6.ipynb\" target=\"_parent\"><img src=\"https://colab.research.google.com/assets/colab-badge.svg\" alt=\"Open In Colab\"/></a>"
      ]
    },
    {
      "cell_type": "markdown",
      "source": [
        "# Exercise 6"
      ],
      "metadata": {
        "id": "2YKNSy_M9wSB"
      }
    },
    {
      "cell_type": "markdown",
      "source": [
        "## Lists"
      ],
      "metadata": {
        "id": "waosO4TAeA-S"
      }
    },
    {
      "cell_type": "markdown",
      "source": [
        "1. Create a list\n",
        "\n",
        "- The name of the new list should be  `month`\n",
        "\n",
        "- The list should contain all the months in a year (January, February, March, April, May, June, July, August, September, October, November, December)"
      ],
      "metadata": {
        "id": "AW0H1ylt3H9g"
      }
    },
    {
      "cell_type": "code",
      "execution_count": 5,
      "metadata": {
        "id": "3a9CllzZ28_6",
        "colab": {
          "base_uri": "https://localhost:8080/"
        },
        "outputId": "95915d74-5ba1-4d33-b5df-3b21956842be"
      },
      "outputs": [
        {
          "output_type": "stream",
          "name": "stdout",
          "text": [
            "['January', 'February', 'March', 'April', 'May', 'June', 'July', 'August', 'September', 'October', 'November', 'December']\n"
          ]
        }
      ],
      "source": [
        "months = ['January', 'February', 'March', 'April', 'May', 'June', 'July', 'August', 'September', 'October', 'November', 'December']\n",
        "\n",
        "print(months)"
      ]
    },
    {
      "cell_type": "markdown",
      "source": [
        "2. Display an element\n",
        "\n",
        "- Display the fourth element 'April' in the `month` list"
      ],
      "metadata": {
        "id": "lDgi4WMA3UDM"
      }
    },
    {
      "cell_type": "code",
      "source": [
        "months = ['January', 'February', 'March', 'April', 'May', 'June', 'July', 'August', 'September', 'October', 'November', 'December']\n",
        "\n",
        "print(months[3])"
      ],
      "metadata": {
        "id": "-K4Umghk34X3",
        "colab": {
          "base_uri": "https://localhost:8080/"
        },
        "outputId": "88827aae-c94c-421d-d5bb-d42281ee84a6"
      },
      "execution_count": 10,
      "outputs": [
        {
          "output_type": "stream",
          "name": "stdout",
          "text": [
            "April\n"
          ]
        }
      ]
    },
    {
      "cell_type": "markdown",
      "source": [
        "3. Slice the list\n",
        "\n",
        "- Use slicing to get the last 4 months of the year of (September, October, November, December) of the `month` list"
      ],
      "metadata": {
        "id": "2sgJy-_C4N8b"
      }
    },
    {
      "cell_type": "code",
      "source": [
        "months = ['January', 'February', 'March', 'April', 'May', 'June', 'July', 'August', 'September', 'October', 'November', 'December']\n",
        "\n",
        "months[8:]"
      ],
      "metadata": {
        "id": "xARijZmm4bp2",
        "colab": {
          "base_uri": "https://localhost:8080/"
        },
        "outputId": "e0265a5d-9c57-4211-e365-1309bd90fc72"
      },
      "execution_count": 12,
      "outputs": [
        {
          "output_type": "execute_result",
          "data": {
            "text/plain": [
              "['September', 'October', 'November', 'December']"
            ]
          },
          "metadata": {},
          "execution_count": 12
        }
      ]
    },
    {
      "cell_type": "markdown",
      "source": [
        "- Use slicing to get the first 4 months of the year (January, February, March, April) of the `month` list"
      ],
      "metadata": {
        "id": "ZNYReiVbp4qN"
      }
    },
    {
      "cell_type": "code",
      "source": [
        "months = ['January', 'February', 'March', 'April', 'May', 'June', 'July', 'August', 'September', 'October', 'November', 'December']\n",
        "\n",
        "months[:4]"
      ],
      "metadata": {
        "id": "5QEm97VXp5Bi",
        "colab": {
          "base_uri": "https://localhost:8080/"
        },
        "outputId": "d23bb36c-d17d-404e-e901-8798c7b3ea74"
      },
      "execution_count": 14,
      "outputs": [
        {
          "output_type": "execute_result",
          "data": {
            "text/plain": [
              "['January', 'February', 'March', 'April']"
            ]
          },
          "metadata": {},
          "execution_count": 14
        }
      ]
    },
    {
      "cell_type": "markdown",
      "source": [
        "4. List Methods\n",
        "\n",
        "- Get the size of the month list using the `len()` method"
      ],
      "metadata": {
        "id": "wZBoOGlh4zf9"
      }
    },
    {
      "cell_type": "code",
      "source": [
        "months = ['January', 'February', 'March', 'April', 'May', 'June', 'July', 'August', 'September', 'October', 'November', 'December']\n",
        "\n",
        "print(len(months))"
      ],
      "metadata": {
        "id": "0xoFuFFw48AX",
        "colab": {
          "base_uri": "https://localhost:8080/"
        },
        "outputId": "a324ec3f-d55c-422d-db76-553a7f3aac1a"
      },
      "execution_count": 15,
      "outputs": [
        {
          "output_type": "stream",
          "name": "stdout",
          "text": [
            "12\n"
          ]
        }
      ]
    },
    {
      "cell_type": "markdown",
      "source": [
        "- Get the element with the largest value of the month list using `max()`"
      ],
      "metadata": {
        "id": "P5bCjc8Xq4Fd"
      }
    },
    {
      "cell_type": "code",
      "source": [
        "months = ['January', 'February', 'March', 'April', 'May', 'June', 'July', 'August', 'September', 'October', 'November', 'December']\n",
        "\n",
        "print(max(months))"
      ],
      "metadata": {
        "id": "Yp3BmlEQq4k7",
        "colab": {
          "base_uri": "https://localhost:8080/"
        },
        "outputId": "0d63c3f8-d764-4532-ad6c-3f5bb8b8dc06"
      },
      "execution_count": 16,
      "outputs": [
        {
          "output_type": "stream",
          "name": "stdout",
          "text": [
            "September\n"
          ]
        }
      ]
    },
    {
      "cell_type": "markdown",
      "source": [
        "- Get the element with the smallest value of the month list using `min()`"
      ],
      "metadata": {
        "id": "dGXbdxgJq5HC"
      }
    },
    {
      "cell_type": "code",
      "source": [
        "months = ['January', 'February', 'March', 'April', 'May', 'June', 'July', 'August', 'September', 'October', 'November', 'December']\n",
        "\n",
        "print(min(months))"
      ],
      "metadata": {
        "id": "2CIePRDMq5aN",
        "colab": {
          "base_uri": "https://localhost:8080/"
        },
        "outputId": "a2c83869-8ab7-45d6-c6e6-6a78674b36e3"
      },
      "execution_count": 17,
      "outputs": [
        {
          "output_type": "stream",
          "name": "stdout",
          "text": [
            "April\n"
          ]
        }
      ]
    },
    {
      "cell_type": "markdown",
      "source": [
        "- Sort the months of the year by alphabetical order using the `sorted()` function"
      ],
      "metadata": {
        "id": "rmnq1YbHta7L"
      }
    },
    {
      "cell_type": "code",
      "source": [
        "months = ['January', 'February', 'March', 'April', 'May', 'June', 'July', 'August', 'September', 'October', 'November', 'December']\n",
        "\n",
        "print(sorted(months))"
      ],
      "metadata": {
        "id": "EBB3CLFGtbKg",
        "colab": {
          "base_uri": "https://localhost:8080/"
        },
        "outputId": "ce84175b-b043-4620-be18-bce0ed7d3265"
      },
      "execution_count": 18,
      "outputs": [
        {
          "output_type": "stream",
          "name": "stdout",
          "text": [
            "['April', 'August', 'December', 'February', 'January', 'July', 'June', 'March', 'May', 'November', 'October', 'September']\n"
          ]
        }
      ]
    },
    {
      "cell_type": "markdown",
      "source": [
        "## Tuple"
      ],
      "metadata": {
        "id": "R4Rkhy42sWQc"
      }
    },
    {
      "cell_type": "markdown",
      "source": [
        "1. Create a tuple with only three elements, the elements are:\n",
        "\n",
        "- Your month of birth in integers\n",
        "- Your day of birth in integers\n",
        "- Your year of birth in integers\n",
        "\n",
        "Use tuple unpacking to directly assign the month, day, year variable to each elements in your tuple."
      ],
      "metadata": {
        "id": "0qdb8lX53Iux"
      }
    },
    {
      "cell_type": "code",
      "source": [
        "birthday = (6, 1, 2004)\n",
        "month, day, year = birthday\n",
        "print(\"My birthdate is:\", str(month) + \"/\" + str(day) + \"/\" + str(year))\n"
      ],
      "metadata": {
        "id": "E14Lb0Y0wwzL",
        "colab": {
          "base_uri": "https://localhost:8080/"
        },
        "outputId": "b2fa7a40-33f3-4844-d718-f2cf0d38040f"
      },
      "execution_count": 26,
      "outputs": [
        {
          "output_type": "stream",
          "name": "stdout",
          "text": [
            "My birthdate is: 6/1/2004\n"
          ]
        }
      ]
    },
    {
      "cell_type": "markdown",
      "source": [
        "## Set\n"
      ],
      "metadata": {
        "id": "pqgIEqbksah2"
      }
    },
    {
      "cell_type": "markdown",
      "source": [
        "1. The list below contains a number of a products of a computer store. Notice that there are duplicate values."
      ],
      "metadata": {
        "id": "PxFhHDRg2zXs"
      }
    },
    {
      "cell_type": "code",
      "source": [
        "products = [\"laptop\", \"smartphone\", \"tablet\", \"mouse\" ,\"powerbank\", \"headphones\", \"laptop\", \"speakers\", \"printer\", \"monitor\", \"projector\", \"mouse\", \"keyboard\"]"
      ],
      "metadata": {
        "id": "WXYdz82fxpdU"
      },
      "execution_count": 30,
      "outputs": []
    },
    {
      "cell_type": "markdown",
      "source": [
        "The difference between a list and a set is that a list allows duplicate values. One way to remove duplicates is to convert a list into a set.\n",
        "\n",
        "Convert the `products` list into a set"
      ],
      "metadata": {
        "id": "vr-5xd3f2Vgn"
      }
    },
    {
      "cell_type": "code",
      "source": [
        "products = [\"laptop\", \"smartphone\", \"tablet\", \"mouse\" ,\"powerbank\", \"headphones\", \"laptop\", \"speakers\", \"printer\", \"monitor\", \"projector\", \"mouse\", \"keyboard\"]\n",
        "\n",
        "unique_prod = set(products)\n",
        "print(unique_prod)"
      ],
      "metadata": {
        "id": "Z_Ao388J2f50",
        "colab": {
          "base_uri": "https://localhost:8080/"
        },
        "outputId": "a75cf3a8-4d82-4c46-d0a2-61c7dc4be36a"
      },
      "execution_count": 39,
      "outputs": [
        {
          "output_type": "stream",
          "name": "stdout",
          "text": [
            "{'laptop', 'headphones', 'powerbank', 'keyboard', 'smartphone', 'tablet', 'projector', 'speakers', 'monitor', 'mouse', 'printer'}\n"
          ]
        }
      ]
    },
    {
      "cell_type": "markdown",
      "source": [
        "2. Verify if \"headphones\" exists in the `products` set  using the `in` operator"
      ],
      "metadata": {
        "id": "d9fOZL4g3a9t"
      }
    },
    {
      "cell_type": "code",
      "source": [
        "products = {\"laptop\", \"smartphone\", \"tablet\", \"mouse\" ,\"powerbank\", \"headphones\", \"laptop\", \"speakers\", \"printer\", \"monitor\", \"projector\", \"mouse\", \"keyboard\"}\n",
        "\n",
        "print(\"headphones\" in products)"
      ],
      "metadata": {
        "id": "ETJJFv-u3b23",
        "colab": {
          "base_uri": "https://localhost:8080/"
        },
        "outputId": "c5f935f5-7a49-48e3-df3d-b318fd3fefa7"
      },
      "execution_count": 23,
      "outputs": [
        {
          "output_type": "stream",
          "name": "stdout",
          "text": [
            "True\n"
          ]
        }
      ]
    },
    {
      "cell_type": "markdown",
      "source": [
        "## Dictionaries"
      ],
      "metadata": {
        "id": "FKj-F10WsctE"
      }
    },
    {
      "cell_type": "markdown",
      "source": [
        "1. Create a dictionary of your favorites\n",
        "\n",
        "- Keys should be the type\n",
        "- Values should be the sample from that type\n",
        "\n",
        "Example:\n",
        "\n",
        "food: friedchicken\n",
        "\n",
        "color: blue\n",
        "\n",
        "sport: badminton\n",
        "\n",
        "drink: mangojuice\n",
        "\n",
        "dessert: cheesetart\n"
      ],
      "metadata": {
        "id": "71KOC3D94P7m"
      }
    },
    {
      "cell_type": "code",
      "source": [
        "favorites = {\"food\": 'friedchicken', \"color\": 'blue', \"sport\": 'badminton', \"drink\": 'mangojuice', \"dessert\": 'cheesetart'}\n",
        "print(favorites)"
      ],
      "metadata": {
        "id": "8lrrq4xT3Zww",
        "colab": {
          "base_uri": "https://localhost:8080/"
        },
        "outputId": "21af7d57-9425-43ae-f4c2-1848f48ee545"
      },
      "execution_count": 38,
      "outputs": [
        {
          "output_type": "stream",
          "name": "stdout",
          "text": [
            "{'food': 'friedchicken', 'color': 'blue', 'sport': 'badminton', 'drink': 'mangojuice', 'dessert': 'cheesetart'}\n"
          ]
        }
      ]
    },
    {
      "cell_type": "markdown",
      "source": [
        "## Loops"
      ],
      "metadata": {
        "id": "cbsI1vwD1nI7"
      }
    },
    {
      "cell_type": "markdown",
      "source": [
        "1. Write a for loop to iterate all elements of the `month` list. Print each element for every iteration."
      ],
      "metadata": {
        "id": "VV429-WhDmzU"
      }
    },
    {
      "cell_type": "code",
      "source": [
        "months = ['January', 'February', 'March', 'April', 'May', 'June', 'July', 'August', 'September', 'October', 'November', 'December']\n",
        "\n",
        "for x in months:\n",
        "  print(x)"
      ],
      "metadata": {
        "id": "Ki5-XrM_DnNp",
        "colab": {
          "base_uri": "https://localhost:8080/"
        },
        "outputId": "6eb806ed-b79d-4b7a-de7c-3ff358168617"
      },
      "execution_count": 62,
      "outputs": [
        {
          "output_type": "stream",
          "name": "stdout",
          "text": [
            "January\n",
            "February\n",
            "March\n",
            "April\n",
            "May\n",
            "June\n",
            "July\n",
            "August\n",
            "September\n",
            "October\n",
            "November\n",
            "December\n"
          ]
        }
      ]
    },
    {
      "cell_type": "markdown",
      "source": [
        "2. Write a for loop and add a condition to only display the elements in the `month` list that ends with \"ber\""
      ],
      "metadata": {
        "id": "XaezrcWxEEQd"
      }
    },
    {
      "cell_type": "code",
      "source": [
        "months = ['January', 'February', 'March', 'April', 'May', 'June', 'July', 'August', 'September', 'October', 'November', 'December']\n",
        "\n",
        "for m in months:\n",
        "  if m.find('ber') > 0:\n",
        "    print(m)"
      ],
      "metadata": {
        "id": "LR4utW6rEEm1",
        "colab": {
          "base_uri": "https://localhost:8080/"
        },
        "outputId": "9484e89a-8129-4912-9965-0119f8502de1"
      },
      "execution_count": 89,
      "outputs": [
        {
          "output_type": "stream",
          "name": "stdout",
          "text": [
            "September\n",
            "October\n",
            "November\n",
            "December\n"
          ]
        }
      ]
    },
    {
      "cell_type": "markdown",
      "source": [
        "3. Write a for loop and add a condition to only display the elements in the `month` list that does not end with \"ber\""
      ],
      "metadata": {
        "id": "WcBRUEaFFHWf"
      }
    },
    {
      "cell_type": "code",
      "source": [
        "months = ['January', 'February', 'March', 'April', 'May', 'June', 'July', 'August', 'September', 'October', 'November', 'December']\n",
        "\n",
        "for m in months:\n",
        "  if m.find('ber') < 0:\n",
        "    print(m)"
      ],
      "metadata": {
        "id": "Bw5D0HLNFHrs",
        "colab": {
          "base_uri": "https://localhost:8080/"
        },
        "outputId": "f5b4ae74-ab03-4497-8cf2-76ac75e57226"
      },
      "execution_count": 90,
      "outputs": [
        {
          "output_type": "stream",
          "name": "stdout",
          "text": [
            "January\n",
            "February\n",
            "March\n",
            "April\n",
            "May\n",
            "June\n",
            "July\n",
            "August\n"
          ]
        }
      ]
    },
    {
      "cell_type": "markdown",
      "source": [
        "4. Write a for loop and use `range()` to display your firstname five times"
      ],
      "metadata": {
        "id": "gpvQU9hfF0TF"
      }
    },
    {
      "cell_type": "code",
      "source": [
        "for n in range(5):\n",
        "  print(\"Bherliane Mhae\")"
      ],
      "metadata": {
        "id": "o-NhO5_nF0hN",
        "colab": {
          "base_uri": "https://localhost:8080/"
        },
        "outputId": "d7e58150-2a97-4b09-e1c4-3637234698e9"
      },
      "execution_count": 87,
      "outputs": [
        {
          "output_type": "stream",
          "name": "stdout",
          "text": [
            "Bherliane Mhae\n",
            "Bherliane Mhae\n",
            "Bherliane Mhae\n",
            "Bherliane Mhae\n",
            "Bherliane Mhae\n"
          ]
        }
      ]
    },
    {
      "cell_type": "markdown",
      "source": [
        "5. Write a for loop that iterates over the names list to create a usernames list.\n",
        "\n",
        "To create a username for each name, make everything lowercase and replace spaces with underscores. Running your for loop over the list:\n",
        "\n",
        "Example:\n",
        "\n",
        "names = [\"Joey Tribbiani\", \"Monica Geller\", \"Chandler Bing\", \"Phoebe Buffay\"]\n",
        "\n",
        "should create a new list\n",
        "\n",
        "usernames = [\"joey_tribbiani\", \"monica_geller\", \"chandler_bing\", \"phoebe_buffay\"]"
      ],
      "metadata": {
        "id": "VLcFGqI9GUic"
      }
    },
    {
      "cell_type": "code",
      "source": [
        "names = [\"Joey Tribbiani\", \"Monica Geller\", \"Chandler Bing\", \"Phoebe Buffay\"]\n",
        "\n",
        "username = []\n",
        "for n in names:\n",
        "  username.append(n.lower().replace(\" \",\"_\"))\n",
        "print(username)"
      ],
      "metadata": {
        "id": "IqqiHcX_GUzw",
        "colab": {
          "base_uri": "https://localhost:8080/"
        },
        "outputId": "cd671710-8535-497e-ecad-bd7254b2846b"
      },
      "execution_count": 105,
      "outputs": [
        {
          "output_type": "stream",
          "name": "stdout",
          "text": [
            "['joey_tribbiani', 'monica_geller', 'chandler_bing', 'phoebe_buffay']\n"
          ]
        }
      ]
    },
    {
      "cell_type": "markdown",
      "source": [
        "6. Write a while loop to iterate throught the `month` list\n",
        "\n",
        "- Break the loop if the element ends with \"ber\""
      ],
      "metadata": {
        "id": "6OPeRpAtI10D"
      }
    },
    {
      "cell_type": "code",
      "source": [
        "months = ['January', 'February', 'March', 'April', 'May', 'June', 'July', 'August', 'September', 'October', 'November', 'December']\n",
        "\n",
        "for m in months:\n",
        "  if m.find('ber') > 0:\n",
        "    break\n",
        "  print(m)\n"
      ],
      "metadata": {
        "id": "0sDyOhMXI2TX",
        "colab": {
          "base_uri": "https://localhost:8080/"
        },
        "outputId": "c421d6ec-de5f-49ba-a49b-e79ddabe9366"
      },
      "execution_count": 119,
      "outputs": [
        {
          "output_type": "stream",
          "name": "stdout",
          "text": [
            "January\n",
            "February\n",
            "March\n",
            "April\n",
            "May\n",
            "June\n",
            "July\n",
            "August\n"
          ]
        }
      ]
    },
    {
      "cell_type": "markdown",
      "source": [
        "## Functions"
      ],
      "metadata": {
        "id": "-UGI_QgO1h07"
      }
    },
    {
      "cell_type": "markdown",
      "source": [
        "1. Write a python function named population_density that takes two arguments, population and land_area, and returns a population density calculated from those values.\n",
        "\n",
        "The population density can be calculated using this formula:\n",
        "\n",
        "population_density = population/land_area"
      ],
      "metadata": {
        "id": "f4bjOx-C1jar"
      }
    },
    {
      "cell_type": "code",
      "source": [
        "def population_density(population, land_area):\n",
        "  return population / land_area\n",
        "\n",
        "population_density(1500,150)"
      ],
      "metadata": {
        "id": "GJVkPniMLD82",
        "colab": {
          "base_uri": "https://localhost:8080/"
        },
        "outputId": "2d009d9b-a55a-43ce-87df-04282e30d10b"
      },
      "execution_count": 54,
      "outputs": [
        {
          "output_type": "execute_result",
          "data": {
            "text/plain": [
              "10.0"
            ]
          },
          "metadata": {},
          "execution_count": 54
        }
      ]
    },
    {
      "cell_type": "markdown",
      "source": [
        "2. Write an `averagesteps()` function to compute the average the number of steps you take every day.\n",
        "\n",
        "- The function should accept a list and compute the average of all elements inside the list\n",
        "\n",
        "- Create a list with seven elements. The values in the list are your average steps your take everyday.\n",
        "\n",
        "- Pass the list to the function and call the function"
      ],
      "metadata": {
        "id": "DEryE1965T3U"
      }
    },
    {
      "cell_type": "code",
      "source": [
        "steps = [100, 150, 200, 200, 150, 500, 450]\n",
        "\n",
        "\n",
        "def averagesteps(steps):\n",
        "  sum = 0\n",
        "  for i in steps:\n",
        "    sum = sum + i\n",
        "\n",
        "  avg = sum / 7\n",
        "  return avg\n",
        "\n",
        "averagesteps(steps)"
      ],
      "metadata": {
        "id": "TzhnugYU6D-6",
        "colab": {
          "base_uri": "https://localhost:8080/"
        },
        "outputId": "24834cd4-6eff-4a65-aabb-5250f7090146"
      },
      "execution_count": 130,
      "outputs": [
        {
          "output_type": "execute_result",
          "data": {
            "text/plain": [
              "250.0"
            ]
          },
          "metadata": {},
          "execution_count": 130
        }
      ]
    }
  ]
}